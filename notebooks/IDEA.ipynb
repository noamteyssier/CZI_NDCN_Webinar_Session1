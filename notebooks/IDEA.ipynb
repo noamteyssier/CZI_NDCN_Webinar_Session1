{
 "cells": [
  {
   "cell_type": "markdown",
   "metadata": {},
   "source": [
    "# Load Modules"
   ]
  },
  {
   "cell_type": "code",
   "execution_count": 6,
   "metadata": {},
   "outputs": [],
   "source": [
    "import pandas as pd\n",
    "import matplotlib.pyplot as plt\n",
    "from idea import run_gsea, IDEA\n",
    "plt.style.use(\"dark_background\")"
   ]
  },
  {
   "cell_type": "markdown",
   "metadata": {},
   "source": [
    "# Load Data"
   ]
  },
  {
   "cell_type": "code",
   "execution_count": 7,
   "metadata": {},
   "outputs": [
    {
     "data": {
      "text/html": [
       "<div>\n",
       "<style scoped>\n",
       "    .dataframe tbody tr th:only-of-type {\n",
       "        vertical-align: middle;\n",
       "    }\n",
       "\n",
       "    .dataframe tbody tr th {\n",
       "        vertical-align: top;\n",
       "    }\n",
       "\n",
       "    .dataframe thead th {\n",
       "        text-align: right;\n",
       "    }\n",
       "</style>\n",
       "<table border=\"1\" class=\"dataframe\">\n",
       "  <thead>\n",
       "    <tr style=\"text-align: right;\">\n",
       "      <th></th>\n",
       "      <th>gene</th>\n",
       "      <th>fold_change</th>\n",
       "      <th>log_fold_change</th>\n",
       "      <th>score_low</th>\n",
       "      <th>pvalue_low</th>\n",
       "      <th>fdr_low</th>\n",
       "      <th>score_high</th>\n",
       "      <th>pvalue_high</th>\n",
       "      <th>fdr_high</th>\n",
       "      <th>pvalue</th>\n",
       "      <th>fdr</th>\n",
       "      <th>phenotype_score</th>\n",
       "    </tr>\n",
       "  </thead>\n",
       "  <tbody>\n",
       "    <tr>\n",
       "      <th>16</th>\n",
       "      <td>RBM4</td>\n",
       "      <td>0.924395</td>\n",
       "      <td>-0.113419</td>\n",
       "      <td>1.798724e-05</td>\n",
       "      <td>0.000111</td>\n",
       "      <td>0.008387</td>\n",
       "      <td>9.131367e-01</td>\n",
       "      <td>0.917649</td>\n",
       "      <td>1.000000</td>\n",
       "      <td>0.000111</td>\n",
       "      <td>0.008387</td>\n",
       "      <td>-0.448659</td>\n",
       "    </tr>\n",
       "    <tr>\n",
       "      <th>25</th>\n",
       "      <td>IGHMBP2</td>\n",
       "      <td>1.266980</td>\n",
       "      <td>0.341394</td>\n",
       "      <td>1.000000e+00</td>\n",
       "      <td>1.000000</td>\n",
       "      <td>1.000000</td>\n",
       "      <td>4.179358e-05</td>\n",
       "      <td>0.000142</td>\n",
       "      <td>0.011429</td>\n",
       "      <td>0.000142</td>\n",
       "      <td>0.011429</td>\n",
       "      <td>1.313879</td>\n",
       "    </tr>\n",
       "    <tr>\n",
       "      <th>37</th>\n",
       "      <td>GRHL2</td>\n",
       "      <td>0.803597</td>\n",
       "      <td>-0.315456</td>\n",
       "      <td>2.066461e-07</td>\n",
       "      <td>0.000004</td>\n",
       "      <td>0.000625</td>\n",
       "      <td>1.000000e+00</td>\n",
       "      <td>1.000000</td>\n",
       "      <td>1.000000</td>\n",
       "      <td>0.000004</td>\n",
       "      <td>0.000625</td>\n",
       "      <td>-1.688864</td>\n",
       "    </tr>\n",
       "    <tr>\n",
       "      <th>46</th>\n",
       "      <td>ZNF143</td>\n",
       "      <td>1.351960</td>\n",
       "      <td>0.435053</td>\n",
       "      <td>1.000000e+00</td>\n",
       "      <td>1.000000</td>\n",
       "      <td>1.000000</td>\n",
       "      <td>2.156983e-04</td>\n",
       "      <td>0.000700</td>\n",
       "      <td>0.039500</td>\n",
       "      <td>0.000700</td>\n",
       "      <td>0.039500</td>\n",
       "      <td>1.372622</td>\n",
       "    </tr>\n",
       "    <tr>\n",
       "      <th>66</th>\n",
       "      <td>GPBP1</td>\n",
       "      <td>0.758331</td>\n",
       "      <td>-0.399100</td>\n",
       "      <td>3.028670e-05</td>\n",
       "      <td>0.000115</td>\n",
       "      <td>0.008387</td>\n",
       "      <td>1.000000e+00</td>\n",
       "      <td>1.000000</td>\n",
       "      <td>1.000000</td>\n",
       "      <td>0.000115</td>\n",
       "      <td>0.008387</td>\n",
       "      <td>-1.571958</td>\n",
       "    </tr>\n",
       "    <tr>\n",
       "      <th>...</th>\n",
       "      <td>...</td>\n",
       "      <td>...</td>\n",
       "      <td>...</td>\n",
       "      <td>...</td>\n",
       "      <td>...</td>\n",
       "      <td>...</td>\n",
       "      <td>...</td>\n",
       "      <td>...</td>\n",
       "      <td>...</td>\n",
       "      <td>...</td>\n",
       "      <td>...</td>\n",
       "      <td>...</td>\n",
       "    </tr>\n",
       "    <tr>\n",
       "      <th>2095</th>\n",
       "      <td>MRGBP</td>\n",
       "      <td>1.788541</td>\n",
       "      <td>0.838783</td>\n",
       "      <td>1.000000e+00</td>\n",
       "      <td>1.000000</td>\n",
       "      <td>1.000000</td>\n",
       "      <td>3.137711e-07</td>\n",
       "      <td>0.000004</td>\n",
       "      <td>0.000833</td>\n",
       "      <td>0.000004</td>\n",
       "      <td>0.000833</td>\n",
       "      <td>4.490614</td>\n",
       "    </tr>\n",
       "    <tr>\n",
       "      <th>2110</th>\n",
       "      <td>GTF3A</td>\n",
       "      <td>1.135437</td>\n",
       "      <td>0.183247</td>\n",
       "      <td>1.000000e+00</td>\n",
       "      <td>1.000000</td>\n",
       "      <td>1.000000</td>\n",
       "      <td>1.783643e-05</td>\n",
       "      <td>0.000062</td>\n",
       "      <td>0.006364</td>\n",
       "      <td>0.000062</td>\n",
       "      <td>0.006364</td>\n",
       "      <td>0.771031</td>\n",
       "    </tr>\n",
       "    <tr>\n",
       "      <th>2128</th>\n",
       "      <td>ZBTB2</td>\n",
       "      <td>1.181355</td>\n",
       "      <td>0.240443</td>\n",
       "      <td>1.000000e+00</td>\n",
       "      <td>1.000000</td>\n",
       "      <td>1.000000</td>\n",
       "      <td>1.636613e-04</td>\n",
       "      <td>0.000545</td>\n",
       "      <td>0.033243</td>\n",
       "      <td>0.000545</td>\n",
       "      <td>0.033243</td>\n",
       "      <td>0.784762</td>\n",
       "    </tr>\n",
       "    <tr>\n",
       "      <th>2146</th>\n",
       "      <td>FOXH1</td>\n",
       "      <td>1.371145</td>\n",
       "      <td>0.455381</td>\n",
       "      <td>1.000000e+00</td>\n",
       "      <td>1.000000</td>\n",
       "      <td>1.000000</td>\n",
       "      <td>4.385269e-06</td>\n",
       "      <td>0.000009</td>\n",
       "      <td>0.001111</td>\n",
       "      <td>0.000009</td>\n",
       "      <td>0.001111</td>\n",
       "      <td>2.300901</td>\n",
       "    </tr>\n",
       "    <tr>\n",
       "      <th>2235</th>\n",
       "      <td>SALL4</td>\n",
       "      <td>0.575175</td>\n",
       "      <td>-0.797928</td>\n",
       "      <td>8.330730e-08</td>\n",
       "      <td>0.000004</td>\n",
       "      <td>0.000625</td>\n",
       "      <td>1.000000e+00</td>\n",
       "      <td>1.000000</td>\n",
       "      <td>1.000000</td>\n",
       "      <td>0.000004</td>\n",
       "      <td>0.000625</td>\n",
       "      <td>-4.271888</td>\n",
       "    </tr>\n",
       "  </tbody>\n",
       "</table>\n",
       "<p>80 rows × 12 columns</p>\n",
       "</div>"
      ],
      "text/plain": [
       "         gene  fold_change  log_fold_change     score_low  pvalue_low  \\\n",
       "16       RBM4     0.924395        -0.113419  1.798724e-05    0.000111   \n",
       "25    IGHMBP2     1.266980         0.341394  1.000000e+00    1.000000   \n",
       "37      GRHL2     0.803597        -0.315456  2.066461e-07    0.000004   \n",
       "46     ZNF143     1.351960         0.435053  1.000000e+00    1.000000   \n",
       "66      GPBP1     0.758331        -0.399100  3.028670e-05    0.000115   \n",
       "...       ...          ...              ...           ...         ...   \n",
       "2095    MRGBP     1.788541         0.838783  1.000000e+00    1.000000   \n",
       "2110    GTF3A     1.135437         0.183247  1.000000e+00    1.000000   \n",
       "2128    ZBTB2     1.181355         0.240443  1.000000e+00    1.000000   \n",
       "2146    FOXH1     1.371145         0.455381  1.000000e+00    1.000000   \n",
       "2235    SALL4     0.575175        -0.797928  8.330730e-08    0.000004   \n",
       "\n",
       "       fdr_low    score_high  pvalue_high  fdr_high    pvalue       fdr  \\\n",
       "16    0.008387  9.131367e-01     0.917649  1.000000  0.000111  0.008387   \n",
       "25    1.000000  4.179358e-05     0.000142  0.011429  0.000142  0.011429   \n",
       "37    0.000625  1.000000e+00     1.000000  1.000000  0.000004  0.000625   \n",
       "46    1.000000  2.156983e-04     0.000700  0.039500  0.000700  0.039500   \n",
       "66    0.008387  1.000000e+00     1.000000  1.000000  0.000115  0.008387   \n",
       "...        ...           ...          ...       ...       ...       ...   \n",
       "2095  1.000000  3.137711e-07     0.000004  0.000833  0.000004  0.000833   \n",
       "2110  1.000000  1.783643e-05     0.000062  0.006364  0.000062  0.006364   \n",
       "2128  1.000000  1.636613e-04     0.000545  0.033243  0.000545  0.033243   \n",
       "2146  1.000000  4.385269e-06     0.000009  0.001111  0.000009  0.001111   \n",
       "2235  0.000625  1.000000e+00     1.000000  1.000000  0.000004  0.000625   \n",
       "\n",
       "      phenotype_score  \n",
       "16          -0.448659  \n",
       "25           1.313879  \n",
       "37          -1.688864  \n",
       "46           1.372622  \n",
       "66          -1.571958  \n",
       "...               ...  \n",
       "2095         4.490614  \n",
       "2110         0.771031  \n",
       "2128         0.784762  \n",
       "2146         2.300901  \n",
       "2235        -4.271888  \n",
       "\n",
       "[80 rows x 12 columns]"
      ]
     },
     "execution_count": 7,
     "metadata": {},
     "output_type": "execute_result"
    }
   ],
   "source": [
    "genes = pd.read_csv(\"../results/results.gene_results.tsv\", sep=\"\\t\")\n",
    "background = genes.gene.values\n",
    "sig = genes[genes.fdr < 0.05]\n",
    "sig"
   ]
  },
  {
   "cell_type": "markdown",
   "metadata": {},
   "source": [
    "# Define Function to run GSEA, Build Networks, and Save Files"
   ]
  },
  {
   "cell_type": "code",
   "execution_count": 8,
   "metadata": {},
   "outputs": [],
   "source": [
    "def build_network(\n",
    "    degs: pd.DataFrame,\n",
    "    library: str,\n",
    "    label: str,\n",
    "    background: list = None,\n",
    "    max_terms: int = 20,\n",
    "    threshold: float = 0.15,\n",
    "    use_pvalue: bool = False,\n",
    "):\n",
    "    \"\"\"\n",
    "    A function that accepts DEGs and runs GSEA and IDEA on them.\n",
    "    \"\"\"\n",
    "\n",
    "    # Run GSEA\n",
    "    gsea = run_gsea(\n",
    "        degs.gene, \n",
    "        library, \n",
    "        background=background, \n",
    "        threshold=threshold, \n",
    "        use_pvalue=use_pvalue\n",
    "    )\n",
    "\n",
    "    # If no significant terms, return\n",
    "    if gsea.shape[0] == 0:\n",
    "        print(\"No significant terms found for {}!\".format(library))\n",
    "        return\n",
    "    \n",
    "    # Run IDEA\n",
    "    idea = IDEA(\n",
    "        degs,\n",
    "        gsea.head(max_terms),\n",
    "        deg_color_name=\"log_fold_change\",\n",
    "        deg_size_name=\"fdr\",\n",
    "        neg_log_xform_degs_color=False,\n",
    "        gene_palette=\"seismic\",\n",
    "        center=0,\n",
    "        absolute_degs_color=False,  \n",
    "    )\n",
    "\n",
    "    # Plot\n",
    "    idea.visualize(\n",
    "        \"../figures/{}_{}.html\".format(label, library),\n",
    "    )"
   ]
  },
  {
   "cell_type": "markdown",
   "metadata": {},
   "source": [
    "# Run IDEA Analysis"
   ]
  },
  {
   "cell_type": "markdown",
   "metadata": {},
   "source": [
    "Here we are going to perform the IDEA analysis using 3 different gene sets:\n",
    "\n",
    "- **BP**: Biological Process\n",
    "- **CC**: Cellular Component\n",
    "- **MF**: Molecular Function\n",
    "\n",
    "The resulting figures can be opened in a browser and are in `figures/*.html` when starting at the root of this project directory\n",
    "\n",
    "**Note**:\n",
    "Notice that we are running each one with and without a background.\n",
    "\n",
    "This is to highlight the importance of using one and to show the differences that can be made in inference without adjusting for it."
   ]
  },
  {
   "cell_type": "markdown",
   "metadata": {},
   "source": [
    "## Mixed Population (Positive / Negative)"
   ]
  },
  {
   "cell_type": "code",
   "execution_count": 9,
   "metadata": {},
   "outputs": [
    {
     "name": "stderr",
     "output_type": "stream",
     "text": [
      "2023-10-06 09:42:52 - INFO - Found 80 differentially expressed genes.\n",
      "2023-10-06 09:42:52 - INFO - Found 12 gene ontology terms.\n",
      "2023-10-06 09:42:52 - INFO - Built bipartite graph with 12 terms, 19 genes, and 58 edges.\n",
      "2023-10-06 09:42:52 - INFO - Visualization saved to ../figures/mixed_BP.html.\n",
      "2023-10-06 09:42:54 - INFO - Found 80 differentially expressed genes.\n",
      "2023-10-06 09:42:54 - INFO - Found 13 gene ontology terms.\n",
      "2023-10-06 09:42:54 - INFO - Built bipartite graph with 13 terms, 54 genes, and 125 edges.\n",
      "2023-10-06 09:42:54 - INFO - Visualization saved to ../figures/mixed_CC.html.\n",
      "2023-10-06 09:42:56 - INFO - Found 80 differentially expressed genes.\n",
      "2023-10-06 09:42:56 - INFO - Found 20 gene ontology terms.\n",
      "2023-10-06 09:42:56 - INFO - Built bipartite graph with 20 terms, 48 genes, and 177 edges.\n",
      "2023-10-06 09:42:56 - INFO - Visualization saved to ../figures/mixed_nobg_BP.html.\n"
     ]
    },
    {
     "name": "stdout",
     "output_type": "stream",
     "text": [
      "No significant terms found for MF!\n"
     ]
    },
    {
     "name": "stderr",
     "output_type": "stream",
     "text": [
      "2023-10-06 09:42:57 - INFO - Found 80 differentially expressed genes.\n",
      "2023-10-06 09:42:57 - INFO - Found 15 gene ontology terms.\n",
      "2023-10-06 09:42:57 - INFO - Built bipartite graph with 15 terms, 55 genes, and 124 edges.\n",
      "2023-10-06 09:42:57 - INFO - Visualization saved to ../figures/mixed_nobg_CC.html.\n",
      "2023-10-06 09:42:58 - INFO - Found 80 differentially expressed genes.\n",
      "2023-10-06 09:42:58 - INFO - Found 20 gene ontology terms.\n",
      "2023-10-06 09:42:58 - INFO - Built bipartite graph with 20 terms, 47 genes, and 146 edges.\n",
      "2023-10-06 09:42:58 - INFO - Visualization saved to ../figures/mixed_nobg_MF.html.\n"
     ]
    }
   ],
   "source": [
    "build_network(sig, \"BP\", \"mixed\", background=background)\n",
    "build_network(sig, \"CC\", \"mixed\", background=background)\n",
    "build_network(sig, \"MF\", \"mixed\", background=background)\n",
    "\n",
    "build_network(sig, \"BP\", \"mixed_nobg\", background=None)\n",
    "build_network(sig, \"CC\", \"mixed_nobg\", background=None)\n",
    "build_network(sig, \"MF\", \"mixed_nobg\", background=None)"
   ]
  },
  {
   "cell_type": "markdown",
   "metadata": {},
   "source": [
    "## Negative Population"
   ]
  },
  {
   "cell_type": "code",
   "execution_count": 10,
   "metadata": {},
   "outputs": [
    {
     "name": "stderr",
     "output_type": "stream",
     "text": [
      "2023-10-06 09:43:04 - INFO - Found 40 differentially expressed genes.\n",
      "2023-10-06 09:43:04 - INFO - Found 20 gene ontology terms.\n",
      "2023-10-06 09:43:04 - INFO - Built bipartite graph with 20 terms, 26 genes, and 95 edges.\n",
      "2023-10-06 09:43:04 - INFO - Visualization saved to ../figures/neg_nobg_BP.html.\n"
     ]
    },
    {
     "name": "stdout",
     "output_type": "stream",
     "text": [
      "No significant terms found for BP!\n",
      "No significant terms found for CC!\n",
      "No significant terms found for MF!\n"
     ]
    },
    {
     "name": "stderr",
     "output_type": "stream",
     "text": [
      "2023-10-06 09:43:05 - INFO - Found 40 differentially expressed genes.\n",
      "2023-10-06 09:43:05 - INFO - Found 9 gene ontology terms.\n",
      "2023-10-06 09:43:05 - INFO - Built bipartite graph with 9 terms, 28 genes, and 60 edges.\n",
      "2023-10-06 09:43:05 - INFO - Visualization saved to ../figures/neg_nobg_CC.html.\n",
      "2023-10-06 09:43:06 - INFO - Found 40 differentially expressed genes.\n",
      "2023-10-06 09:43:06 - INFO - Found 20 gene ontology terms.\n",
      "2023-10-06 09:43:06 - INFO - Built bipartite graph with 20 terms, 20 genes, and 69 edges.\n",
      "2023-10-06 09:43:06 - INFO - Visualization saved to ../figures/neg_nobg_MF.html.\n"
     ]
    }
   ],
   "source": [
    "neg_sig = sig[sig.log_fold_change < 0]\n",
    "\n",
    "build_network(neg_sig, \"BP\", \"neg\", background=background)\n",
    "build_network(neg_sig, \"CC\", \"neg\", background=background)\n",
    "build_network(neg_sig, \"MF\", \"neg\", background=background)\n",
    "\n",
    "build_network(neg_sig, \"BP\", \"neg_nobg\", background=None)\n",
    "build_network(neg_sig, \"CC\", \"neg_nobg\", background=None)\n",
    "build_network(neg_sig, \"MF\", \"neg_nobg\", background=None)"
   ]
  },
  {
   "cell_type": "markdown",
   "metadata": {},
   "source": [
    "## Positive Population"
   ]
  },
  {
   "cell_type": "code",
   "execution_count": 11,
   "metadata": {},
   "outputs": [
    {
     "name": "stderr",
     "output_type": "stream",
     "text": [
      "2023-10-06 09:43:07 - INFO - Found 40 differentially expressed genes.\n",
      "2023-10-06 09:43:07 - INFO - Found 20 gene ontology terms.\n",
      "2023-10-06 09:43:07 - INFO - Built bipartite graph with 20 terms, 14 genes, and 61 edges.\n",
      "2023-10-06 09:43:07 - INFO - Visualization saved to ../figures/pos_BP.html.\n",
      "2023-10-06 09:43:09 - INFO - Found 40 differentially expressed genes.\n",
      "2023-10-06 09:43:09 - INFO - Found 10 gene ontology terms.\n",
      "2023-10-06 09:43:09 - INFO - Built bipartite graph with 10 terms, 11 genes, and 19 edges.\n",
      "2023-10-06 09:43:09 - INFO - Visualization saved to ../figures/pos_CC.html.\n",
      "2023-10-06 09:43:12 - INFO - Found 40 differentially expressed genes.\n",
      "2023-10-06 09:43:12 - INFO - Found 20 gene ontology terms.\n",
      "2023-10-06 09:43:12 - INFO - Built bipartite graph with 20 terms, 28 genes, and 100 edges.\n",
      "2023-10-06 09:43:12 - INFO - Visualization saved to ../figures/pos_nobg_BP.html.\n"
     ]
    },
    {
     "name": "stdout",
     "output_type": "stream",
     "text": [
      "No significant terms found for MF!\n"
     ]
    },
    {
     "name": "stderr",
     "output_type": "stream",
     "text": [
      "2023-10-06 09:43:13 - INFO - Found 40 differentially expressed genes.\n",
      "2023-10-06 09:43:13 - INFO - Found 20 gene ontology terms.\n",
      "2023-10-06 09:43:13 - INFO - Built bipartite graph with 20 terms, 28 genes, and 76 edges.\n",
      "2023-10-06 09:43:13 - INFO - Visualization saved to ../figures/pos_nobg_CC.html.\n",
      "2023-10-06 09:43:14 - INFO - Found 40 differentially expressed genes.\n",
      "2023-10-06 09:43:14 - INFO - Found 20 gene ontology terms.\n",
      "2023-10-06 09:43:14 - INFO - Built bipartite graph with 20 terms, 26 genes, and 63 edges.\n",
      "2023-10-06 09:43:14 - INFO - Visualization saved to ../figures/pos_nobg_MF.html.\n"
     ]
    }
   ],
   "source": [
    "pos_sig = sig[sig.log_fold_change > 0]\n",
    "\n",
    "build_network(pos_sig, \"BP\", \"pos\", background=background)\n",
    "build_network(pos_sig, \"CC\", \"pos\", background=background)\n",
    "build_network(pos_sig, \"MF\", \"pos\", background=background)\n",
    "\n",
    "build_network(pos_sig, \"BP\", \"pos_nobg\", background=None)\n",
    "build_network(pos_sig, \"CC\", \"pos_nobg\", background=None)\n",
    "build_network(pos_sig, \"MF\", \"pos_nobg\", background=None)\n"
   ]
  }
 ],
 "metadata": {
  "kernelspec": {
   "display_name": "base",
   "language": "python",
   "name": "python3"
  },
  "language_info": {
   "codemirror_mode": {
    "name": "ipython",
    "version": 3
   },
   "file_extension": ".py",
   "mimetype": "text/x-python",
   "name": "python",
   "nbconvert_exporter": "python",
   "pygments_lexer": "ipython3",
   "version": "3.11.4"
  }
 },
 "nbformat": 4,
 "nbformat_minor": 2
}
